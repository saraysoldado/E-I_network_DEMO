{
  "nbformat": 4,
  "nbformat_minor": 0,
  "metadata": {
    "colab": {
      "provenance": []
    },
    "kernelspec": {
      "name": "python3",
      "display_name": "Python 3"
    },
    "language_info": {
      "name": "python"
    }
  },
  "cells": [
    {
      "cell_type": "code",
      "source": [
        "from google.colab import drive\n",
        "drive.mount('/content/drive')"
      ],
      "metadata": {
        "colab": {
          "base_uri": "https://localhost:8080/"
        },
        "id": "OsUA7Z6e8IUT",
        "outputId": "08a7b368-b5ee-4ed5-b706-70a36ec0dbf4"
      },
      "execution_count": null,
      "outputs": [
        {
          "output_type": "stream",
          "name": "stdout",
          "text": [
            "Mounted at /content/drive\n"
          ]
        }
      ]
    },
    {
      "cell_type": "markdown",
      "source": [
        "# Wilson and Cowan network simulation\n",
        "\n",
        "The Wilson and Cowan equations describe the dynamics of interacting excitatory and inhibitory neuronal populations:\n",
        "\n",
        "\\begin{aligned}\n",
        "    \\tau_E \\frac{dE}{dt} &= -E + f_E(W_{EE}E - W_{EI}I + I_{ext} + η_E) \\\\\n",
        "    \\tau_I \\frac{dI}{dt} &= -I + f_I(W_{IE}E - W_{II}I + η_I)\n",
        "\\end{aligned}\n",
        "\n",
        "where\n",
        "\n",
        "\\begin{aligned}\n",
        "f_Y(x) =\n",
        "\\begin{cases}\n",
        "    0, & \\text{if } x < \\theta_Y \\\\\n",
        "    g_Y(x - \\theta_Y), & \\text{if } x \\geq \\theta_Y\n",
        "\\end{cases}, \\quad Y = \\{E, I\\}.\n",
        "\\end{aligned}\n",
        "\n",
        "\n",
        "<div>\n",
        "<img src=\"https://drive.google.com/uc?id=15zMGxYSffBQMjhDfhfGHc5Oj2IK8mEs6\" width=\"1000\"/>\n",
        "</div>\n"
      ],
      "metadata": {
        "id": "le1k5UajwWiP"
      }
    },
    {
      "cell_type": "markdown",
      "source": [
        "Lets asume that E and I are fixed values, as we see in the experiments. For now E=Eset and I=Iset.\n",
        "\n",
        "At steady state, the system does not change over time, so we set dE/dt = 0\n",
        "\n",
        "If we solve for WEI and WIE in this case we get:\n",
        "\n",
        "\\begin{aligned}\n",
        "W_{EI} =\n",
        "\\frac{W_{EE} E_{\\text{Set}}}{I_{\\text{Set}}}\n",
        "- \\frac{\\theta_E g_E + E_{\\text{Set}}}{I_{\\text{Set}} g_E}    \n",
        "\\end{aligned}\n",
        "\n",
        "\\begin{aligned}\n",
        "W_{II} =\n",
        "\\frac{W_{IE} E_{\\text{Set}}}{I_{\\text{Set}}}\n",
        "- \\frac{\\theta_I g_I + I_{\\text{Set}}}{I_{\\text{Set}} g_I}  \n",
        "\\end{aligned}\n",
        "\n",
        "The excitatory and inhibitory weights obey a liner relationship, in other words, to be on a steady state of firing, they must be \"balanced\"."
      ],
      "metadata": {
        "id": "dF2wmw0XmPw3"
      }
    }
  ]
}